{
 "cells": [
  {
   "cell_type": "code",
   "execution_count": 1,
   "metadata": {},
   "outputs": [],
   "source": [
    "import os\n",
    "from pathlib import  Path\n",
    "import glob\n",
    "import pandas as pd\n",
    "import pickle\n",
    "import numpy as np\n",
    "from pymol import cmd\n",
    "from tqdm import tqdm"
   ]
  },
  {
   "cell_type": "code",
   "execution_count": null,
   "metadata": {},
   "outputs": [],
   "source": [
    "PROTAC_complex_path = 'protacs' # the complex file path, you should change.\n",
    "PROTAC_data_path = 'protacs.csv' # the csv file path, including the label information, you should change."
   ]
  },
  {
   "cell_type": "code",
   "execution_count": 2,
   "metadata": {},
   "outputs": [],
   "source": [
    "name_list = os.listdir(PROTAC_complex_path)\n",
    "name_list = [x.split('.')[0] for x in name_list]"
   ]
  },
  {
   "cell_type": "code",
   "execution_count": 3,
   "metadata": {},
   "outputs": [
    {
     "data": {
      "text/plain": [
       "['318_BCR-ABL_CRBN',\n",
       " '2023_CDK4_CRBN',\n",
       " '1550_EGFR-L858R-T790M_CRBN',\n",
       " '194_BRD4_CRBN',\n",
       " '2293_PDL1_CRBN']"
      ]
     },
     "execution_count": 3,
     "metadata": {},
     "output_type": "execute_result"
    }
   ],
   "source": [
    "name_list[:5]"
   ]
  },
  {
   "cell_type": "code",
   "execution_count": 4,
   "metadata": {},
   "outputs": [],
   "source": [
    "Path('ligase_ligand').mkdir(exist_ok=True)\n",
    "Path('ligase_pocket_5').mkdir(exist_ok=True)\n",
    "Path('target_ligand').mkdir(exist_ok=True)\n",
    "Path('target_pocket_5').mkdir(exist_ok=True)"
   ]
  },
  {
   "cell_type": "code",
   "execution_count": 5,
   "metadata": {},
   "outputs": [],
   "source": [
    "with open('data/name.pkl','wb') as f:\n",
    "    pickle.dump(name_list, f)"
   ]
  },
  {
   "cell_type": "code",
   "execution_count": 6,
   "metadata": {},
   "outputs": [
    {
     "name": "stdout",
     "output_type": "stream",
     "text": [
      " PyMOL not running, entering library mode (experimental)\n"
     ]
    }
   ],
   "source": [
    "for i in name_list:\n",
    "    cmd.load(glob.glob('protacs/'+i+\"/*igase.pdb\")[0])\n",
    "    cmd.remove('h.')\n",
    "    cmd.select(\"ligase_ligand\",\"chain D\")\n",
    "    cmd.save(\"ligase_ligand/\"+i+\".mol2\",\"ligase_ligand\")\n",
    "    cmd.select(\"ligase_pocket_5\",\"byres chain D around 5 and Chain B\")\n",
    "    cmd.save(\"ligase_pocket_5/\"+i+\".mol2\",\"ligase_pocket_5\")\n",
    "    cmd.delete(\"all\")\n",
    "\n",
    "    cmd.load(glob.glob('protacs/'+i+\"/*rotein.pdb\")[0])\n",
    "    cmd.remove('h.')\n",
    "    cmd.select(\"target_ligand\",\"chain C\")\n",
    "    cmd.save(\"target_ligand/\"+i+\".mol2\",\"target_ligand\")\n",
    "    cmd.select(\"target_pocket_5\",\"byres chain C around 5 and Chain A\")\n",
    "    cmd.save(\"target_pocket_5/\"+i+\".mol2\",\"target_pocket_5\")\n",
    "    cmd.delete(\"all\")\n",
    "    "
   ]
  },
  {
   "cell_type": "code",
   "execution_count": null,
   "metadata": {},
   "outputs": [],
   "source": [
    "for i in name_list:\n",
    "    os.system(f\"babel ligase_ligand/{i}.mol2 ligase_ligand/{i}.mol2\")\n",
    "    os.system(f\"babel ligase_pocket_5/{i}.mol2 ligase_pocket_5/{i}.mol2\")\n",
    "    os.system(f\"babel target_ligand/{i}.mol2 target_ligand/{i}.mol2\")\n",
    "    os.system(f\"babel target_pocket_5/{i}.mol2 target_pocket_5/{i}.mol2\")"
   ]
  }
 ],
 "metadata": {
  "kernelspec": {
   "display_name": "Python 3.7.10 ('DeepPROTACs')",
   "language": "python",
   "name": "python3"
  },
  "language_info": {
   "codemirror_mode": {
    "name": "ipython",
    "version": 3
   },
   "file_extension": ".py",
   "mimetype": "text/x-python",
   "name": "python",
   "nbconvert_exporter": "python",
   "pygments_lexer": "ipython3",
   "version": "3.7.10"
  },
  "vscode": {
   "interpreter": {
    "hash": "1b46101e293e94b98eae4818f738bfc364333e9c5cd98cfaba1946f7b3ee915f"
   }
  }
 },
 "nbformat": 4,
 "nbformat_minor": 2
}
