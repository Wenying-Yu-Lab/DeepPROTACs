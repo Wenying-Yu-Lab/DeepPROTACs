{
 "cells": [
  {
   "cell_type": "code",
   "execution_count": 1,
   "source": [
    "import os\n",
    "import glob\n",
    "import pandas as pd\n",
    "import pickle\n",
    "import numpy as np\n",
    "from pymol import cmd"
   ],
   "outputs": [],
   "metadata": {}
  },
  {
   "cell_type": "code",
   "execution_count": 2,
   "source": [
    "name_list = os.listdir('protacs')\n",
    "name_list = [x.split('.')[0] for x in name_list]"
   ],
   "outputs": [],
   "metadata": {}
  },
  {
   "cell_type": "code",
   "execution_count": 3,
   "source": [
    "import random\n",
    "random.seed(1)\n",
    "random.shuffle(name_list)"
   ],
   "outputs": [],
   "metadata": {}
  },
  {
   "cell_type": "code",
   "execution_count": 4,
   "source": [
    "with open('name.pkl','wb') as f:\n",
    "    pickle.dump(name_list, f)"
   ],
   "outputs": [],
   "metadata": {}
  },
  {
   "cell_type": "code",
   "execution_count": 5,
   "source": [
    "name_list[:5]"
   ],
   "outputs": [
    {
     "output_type": "execute_result",
     "data": {
      "text/plain": [
       "['1578_TRKA_CRBN',\n",
       " '1409_cKIT_CRBN',\n",
       " '1487_SHP2_VHL',\n",
       " '1742_MEK1_CRBN',\n",
       " '1705_IRAK3_CRBN']"
      ]
     },
     "metadata": {},
     "execution_count": 5
    }
   ],
   "metadata": {}
  },
  {
   "cell_type": "code",
   "execution_count": 6,
   "source": [
    "# for i in name_list:\n",
    "#     cmd.load(\"protacs/\"+i+\".pdb\")\n",
    "#     cmd.remove('h.')\n",
    "#     cmd.select(\"target\",\"byres chain C around 5 and chain A\")\n",
    "#     cmd.save(\"ligase_pocket/\"+i+\".mol2\",\"target\")\n",
    "#     cmd.select(\"ligase\",\"byres chain D around 5 and Chain B\")\n",
    "#     cmd.save(\"target_pocket/\"+i+\".mol2\",\"ligase\")\n",
    "#     cmd.delete(\"all\")"
   ],
   "outputs": [],
   "metadata": {}
  },
  {
   "cell_type": "markdown",
   "source": [
    "atom, dist"
   ],
   "metadata": {}
  },
  {
   "cell_type": "code",
   "execution_count": 7,
   "source": [
    "ligase_atom = {}\n",
    "ligase_bond = {}\n",
    "for name in name_list:\n",
    "    with open('ligase_pocket/'+name+'.mol2') as f:\n",
    "        lines = f.readlines()\n",
    "    atoms = lines[lines.index('@<TRIPOS>ATOM\\n')+1:lines.index('@<TRIPOS>BOND\\n')]\n",
    "    bonds = lines[lines.index('@<TRIPOS>BOND\\n')+1:lines.index('@<TRIPOS>SUBSTRUCTURE\\n')]\n",
    "    atom = [i.split('\\t')[1].strip()[0] for i in atoms]\n",
    "    CODE = ['C','N','O','S']\n",
    "    atom_code = [CODE.index(x) if x in atom else 4 for x in atom]\n",
    "    bond_1 = [int(i.split(' ')[1])-1 for i in bonds]\n",
    "    bond_2 = [int(i.split(' ')[2])-1 for i in bonds]\n",
    "    bond = np.eye(len(atom))\n",
    "    for i in range(len(bond_1)):\n",
    "        bond[bond_1[i]][bond_2[i]] = 1\n",
    "        bond[bond_2[i]][bond_1[i]] = 1\n",
    "    ligase_atom[name] = atom_code\n",
    "    ligase_bond[name] = bond\n",
    "with open('ligase_atom.pkl','wb') as f:\n",
    "    pickle.dump(ligase_atom, f)\n",
    "with open('ligase_bond.pkl','wb') as f:\n",
    "    pickle.dump(ligase_bond, f)"
   ],
   "outputs": [],
   "metadata": {}
  },
  {
   "cell_type": "code",
   "execution_count": 8,
   "source": [
    "target_atom = {}\n",
    "target_bond = {}\n",
    "for name in name_list:\n",
    "    with open('target_pocket/'+name+'.mol2') as f:\n",
    "        lines = f.readlines()\n",
    "    atoms = lines[lines.index('@<TRIPOS>ATOM\\n')+1:lines.index('@<TRIPOS>BOND\\n')]\n",
    "    bonds = lines[lines.index('@<TRIPOS>BOND\\n')+1:lines.index('@<TRIPOS>SUBSTRUCTURE\\n')]\n",
    "    atom = [i.split('\\t')[1].strip()[0] for i in atoms]\n",
    "    CODE = ['C','N','O','S']\n",
    "    atom_code = [CODE.index(x) if x in atom else 4 for x in atom]\n",
    "    bond_1 = [int(i.split(' ')[1])-1 for i in bonds]\n",
    "    bond_2 = [int(i.split(' ')[2])-1 for i in bonds]\n",
    "    bond = np.eye(len(atom))\n",
    "    for i in range(len(bond_1)):\n",
    "        bond[bond_1[i]][bond_2[i]] = 1\n",
    "        bond[bond_2[i]][bond_1[i]] = 1\n",
    "    target_atom[name] = atom_code\n",
    "    target_bond[name] = bond\n",
    "with open('target_atom.pkl','wb') as f:\n",
    "    pickle.dump(target_atom, f)\n",
    "with open('target_bond.pkl','wb') as f:\n",
    "    pickle.dump(target_bond, f)"
   ],
   "outputs": [],
   "metadata": {}
  },
  {
   "cell_type": "code",
   "execution_count": 9,
   "source": [
    "ligase_ligand_atom = {}\n",
    "ligase_ligand_bond = {}\n",
    "for name in name_list:\n",
    "    with open('E3_ligand_sdf/E3_ligand_'+name.split('_')[0]+'.sdf') as f:\n",
    "        lines = f.readlines()\n",
    "    atoms = []\n",
    "    bond_1 = []\n",
    "    bond_2 = []\n",
    "    for line in lines:\n",
    "        if len(line.strip().split()) == 16:\n",
    "            atoms.append(line.strip().split()[3])\n",
    "        if len(line.strip().split()) == 4:\n",
    "            bond_1.append(int(line.strip().split()[0])-1)\n",
    "            bond_2.append(int(line.strip().split()[1])-1)\n",
    "\n",
    "    CODE = ['C','N','O','S','F','Cl','Br','I','P']\n",
    "    atom_code = [CODE.index(x) if x in atoms else 9 for x in atoms]\n",
    "    bond = np.eye(len(atom_code))\n",
    "    for i in range(len(bond_1)):\n",
    "        bond[bond_1[i]][bond_2[i]] = 1\n",
    "        bond[bond_2[i]][bond_1[i]] = 1\n",
    "\n",
    "    ligase_ligand_atom[name] = atom_code\n",
    "    ligase_ligand_bond[name] = bond\n",
    "with open('ligase_ligand_atom.pkl','wb') as f:\n",
    "    pickle.dump(ligase_ligand_atom, f)\n",
    "with open('ligase_ligand_bond.pkl','wb') as f:\n",
    "    pickle.dump(ligase_ligand_bond, f)"
   ],
   "outputs": [],
   "metadata": {}
  },
  {
   "cell_type": "code",
   "execution_count": 10,
   "source": [
    "target_ligand_atom = {}\n",
    "target_ligand_bond = {}\n",
    "for name in name_list:\n",
    "    with open('target_ligand_sdf/target_ligand_'+name.split('_')[0]+'.sdf') as f:\n",
    "        lines = f.readlines()\n",
    "    atoms = []\n",
    "    bond_1 = []\n",
    "    bond_2 = []\n",
    "    for line in lines:\n",
    "        if len(line.strip().split()) == 16:\n",
    "            atoms.append(line.strip().split()[3])\n",
    "        if len(line.strip().split()) == 4:\n",
    "            bond_1.append(int(line.strip().split()[0])-1)\n",
    "            bond_2.append(int(line.strip().split()[1])-1)\n",
    "\n",
    "    CODE = ['C','N','O','S','F','Cl','Br','I','P']\n",
    "    atom_code = [CODE.index(x) if x in atoms else 9 for x in atoms]\n",
    "    bond = np.eye(len(atom_code))\n",
    "    for i in range(len(bond_1)):\n",
    "        bond[bond_1[i]][bond_2[i]] = 1\n",
    "        bond[bond_2[i]][bond_1[i]] = 1\n",
    "\n",
    "    target_ligand_atom[name] = atom_code\n",
    "    target_ligand_bond[name] = bond\n",
    "with open('target_ligand_atom.pkl','wb') as f:\n",
    "    pickle.dump(target_ligand_atom, f)\n",
    "with open('target_ligand_bond.pkl','wb') as f:\n",
    "    pickle.dump(target_ligand_bond, f)"
   ],
   "outputs": [],
   "metadata": {}
  },
  {
   "cell_type": "code",
   "execution_count": 11,
   "source": [
    "smiles = {}\n",
    "for i in name_list:\n",
    "    smi_num = i.split(\"_\")[0]\n",
    "    with open(\"linker_smi/linker_\"+smi_num+\".smi\") as f:\n",
    "        smi = f.read()\n",
    "    smiles[i] = smi.strip()\n",
    "with open(\"smiles.pkl\",\"wb\") as f:\n",
    "    pickle.dump(smiles,f)"
   ],
   "outputs": [],
   "metadata": {}
  },
  {
   "cell_type": "code",
   "execution_count": 12,
   "source": [
    "label_csv = pd.read_csv(\"protacs.csv\")"
   ],
   "outputs": [],
   "metadata": {}
  },
  {
   "cell_type": "code",
   "execution_count": 13,
   "source": [
    "id = list(label_csv[\"Compound ID\"])\n",
    "tar = list(label_csv[\"Target\"])\n",
    "e3  = list(label_csv[\"E3 Ligase\"])\n",
    "lab = list(label_csv[\"Degradation Identification\"])"
   ],
   "outputs": [],
   "metadata": {}
  },
  {
   "cell_type": "code",
   "execution_count": 14,
   "source": [
    "labels = {}\n",
    "for i in range(len(id)):\n",
    "    a = str(id[i])+\"_\"+tar[i].replace(\" \",\"\").replace(\"-\",\"\").replace(\"/\",\"\")+\"_\"+e3[i].replace(\" \",\"\")\n",
    "    labels[a] = lab[i]"
   ],
   "outputs": [],
   "metadata": {}
  },
  {
   "cell_type": "code",
   "execution_count": 15,
   "source": [
    "for i in name_list:\n",
    "    if i not in labels:\n",
    "        print(i) "
   ],
   "outputs": [],
   "metadata": {}
  },
  {
   "cell_type": "code",
   "execution_count": 16,
   "source": [
    "labels_code = {}\n",
    "for i in labels:\n",
    "    if labels[i]=='Good' or labels[i]=='Excellent':\n",
    "        labels_code[i] = 1\n",
    "    elif  labels[i]=='Moderate' or labels[i]==\"Not Good\" or labels[i]=='Poor':\n",
    "        labels_code[i] = 0"
   ],
   "outputs": [],
   "metadata": {}
  },
  {
   "cell_type": "code",
   "execution_count": 17,
   "source": [
    "for i in name_list:\n",
    "    if i not in labels_code:\n",
    "        print(i)"
   ],
   "outputs": [],
   "metadata": {}
  },
  {
   "cell_type": "code",
   "execution_count": 18,
   "source": [
    "with open(\"label.pkl\",\"wb\") as f:\n",
    "    pickle.dump(labels_code, f)"
   ],
   "outputs": [],
   "metadata": {}
  }
 ],
 "metadata": {
  "interpreter": {
   "hash": "a73dc4dd7a7f13b3faccf70cd14e8e6c3f7ea82e6710b5bf9bca02f656dae0e8"
  },
  "kernelspec": {
   "name": "python3",
   "display_name": "Python 3.7.10 64-bit ('torch181': conda)"
  },
  "language_info": {
   "codemirror_mode": {
    "name": "ipython",
    "version": 3
   },
   "file_extension": ".py",
   "mimetype": "text/x-python",
   "name": "python",
   "nbconvert_exporter": "python",
   "pygments_lexer": "ipython3",
   "version": "3.7.10"
  }
 },
 "nbformat": 4,
 "nbformat_minor": 2
}